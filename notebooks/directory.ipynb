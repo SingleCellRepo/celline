{
 "cells": [
  {
   "cell_type": "code",
   "execution_count": 3,
   "metadata": {},
   "outputs": [],
   "source": [
    "from pysradb.sraweb import SRAweb"
   ]
  },
  {
   "cell_type": "code",
   "execution_count": 4,
   "metadata": {},
   "outputs": [],
   "source": [
    "db = SRAweb()\n",
    "df = db.gsm_to_gse(\"GSM4752166\")[\"study_alias\"][0]"
   ]
  },
  {
   "cell_type": "code",
   "execution_count": 7,
   "metadata": {},
   "outputs": [
    {
     "data": {
      "text/plain": [
       "'GSE157079'"
      ]
     },
     "execution_count": 7,
     "metadata": {},
     "output_type": "execute_result"
    }
   ],
   "source": [
    "df[\"study_alias\"][0]"
   ]
  },
  {
   "cell_type": "code",
   "execution_count": 12,
   "metadata": {},
   "outputs": [],
   "source": [
    "df = db.srr_to_gsm(\"SRR11746184\")"
   ]
  },
  {
   "cell_type": "code",
   "execution_count": 16,
   "metadata": {},
   "outputs": [
    {
     "data": {
      "text/plain": [
       "1"
      ]
     },
     "execution_count": 16,
     "metadata": {},
     "output_type": "execute_result"
    }
   ],
   "source": [
    "df[\"run_accession\"].tolist().index(\"SRR11746184\")"
   ]
  },
  {
   "cell_type": "code",
   "execution_count": 13,
   "metadata": {},
   "outputs": [
    {
     "data": {
      "text/html": [
       "<div>\n",
       "<style scoped>\n",
       "    .dataframe tbody tr th:only-of-type {\n",
       "        vertical-align: middle;\n",
       "    }\n",
       "\n",
       "    .dataframe tbody tr th {\n",
       "        vertical-align: top;\n",
       "    }\n",
       "\n",
       "    .dataframe thead th {\n",
       "        text-align: right;\n",
       "    }\n",
       "</style>\n",
       "<table border=\"1\" class=\"dataframe\">\n",
       "  <thead>\n",
       "    <tr style=\"text-align: right;\">\n",
       "      <th></th>\n",
       "      <th>run_accession</th>\n",
       "      <th>experiment_alias</th>\n",
       "      <th>gds</th>\n",
       "      <th>experiment_title</th>\n",
       "      <th>sample_attribute</th>\n",
       "      <th>gpl</th>\n",
       "      <th>gse</th>\n",
       "      <th>taxon</th>\n",
       "      <th>entrytype</th>\n",
       "      <th>gdstype</th>\n",
       "      <th>...</th>\n",
       "      <th>ena_fastq_http</th>\n",
       "      <th>instrument_model</th>\n",
       "      <th>run_total_spots</th>\n",
       "      <th>study_accession</th>\n",
       "      <th>total_spots</th>\n",
       "      <th>ena_fastq_http_2</th>\n",
       "      <th>library_layout</th>\n",
       "      <th>sra_url</th>\n",
       "      <th>run_total_bases</th>\n",
       "      <th>library_selection</th>\n",
       "    </tr>\n",
       "  </thead>\n",
       "  <tbody>\n",
       "    <tr>\n",
       "      <th>0</th>\n",
       "      <td>SRR11746184</td>\n",
       "      <td>GSM4543351</td>\n",
       "      <td></td>\n",
       "      <td>HFO sample 1</td>\n",
       "      <td>HES3 NKX2.5-eGFP reporter line</td>\n",
       "      <td>24676</td>\n",
       "      <td>150202</td>\n",
       "      <td>Homo sapiens</td>\n",
       "      <td>GSM</td>\n",
       "      <td></td>\n",
       "      <td>...</td>\n",
       "      <td>http://ftp.sra.ebi.ac.uk/vol1/fastq/SRR117/084...</td>\n",
       "      <td>Illumina NovaSeq 6000</td>\n",
       "      <td>69003515</td>\n",
       "      <td>SRP260974</td>\n",
       "      <td>285625953</td>\n",
       "      <td>&lt;NA&gt;</td>\n",
       "      <td>PAIRED</td>\n",
       "      <td>https://sra-pub-run-odp.s3.amazonaws.com/sra/S...</td>\n",
       "      <td>21253082620</td>\n",
       "      <td>cDNA</td>\n",
       "    </tr>\n",
       "    <tr>\n",
       "      <th>1</th>\n",
       "      <td>SRR11746185</td>\n",
       "      <td>GSM4543351</td>\n",
       "      <td></td>\n",
       "      <td>HFO sample 1</td>\n",
       "      <td>HES3 NKX2.5-eGFP reporter line</td>\n",
       "      <td>24676</td>\n",
       "      <td>150202</td>\n",
       "      <td>Homo sapiens</td>\n",
       "      <td>GSM</td>\n",
       "      <td></td>\n",
       "      <td>...</td>\n",
       "      <td>http://ftp.sra.ebi.ac.uk/vol1/fastq/SRR117/085...</td>\n",
       "      <td>Illumina NovaSeq 6000</td>\n",
       "      <td>76863187</td>\n",
       "      <td>SRP260974</td>\n",
       "      <td>285625953</td>\n",
       "      <td>&lt;NA&gt;</td>\n",
       "      <td>PAIRED</td>\n",
       "      <td>https://sra-pub-run-odp.s3.amazonaws.com/sra/S...</td>\n",
       "      <td>23673861596</td>\n",
       "      <td>cDNA</td>\n",
       "    </tr>\n",
       "    <tr>\n",
       "      <th>2</th>\n",
       "      <td>SRR11746186</td>\n",
       "      <td>GSM4543351</td>\n",
       "      <td></td>\n",
       "      <td>HFO sample 1</td>\n",
       "      <td>HES3 NKX2.5-eGFP reporter line</td>\n",
       "      <td>24676</td>\n",
       "      <td>150202</td>\n",
       "      <td>Homo sapiens</td>\n",
       "      <td>GSM</td>\n",
       "      <td></td>\n",
       "      <td>...</td>\n",
       "      <td>http://ftp.sra.ebi.ac.uk/vol1/fastq/SRR117/086...</td>\n",
       "      <td>Illumina NovaSeq 6000</td>\n",
       "      <td>70679918</td>\n",
       "      <td>SRP260974</td>\n",
       "      <td>285625953</td>\n",
       "      <td>&lt;NA&gt;</td>\n",
       "      <td>PAIRED</td>\n",
       "      <td>https://sra-pub-run-odp.s3.amazonaws.com/sra/S...</td>\n",
       "      <td>21769414744</td>\n",
       "      <td>cDNA</td>\n",
       "    </tr>\n",
       "    <tr>\n",
       "      <th>3</th>\n",
       "      <td>SRR11746187</td>\n",
       "      <td>GSM4543351</td>\n",
       "      <td></td>\n",
       "      <td>HFO sample 1</td>\n",
       "      <td>HES3 NKX2.5-eGFP reporter line</td>\n",
       "      <td>24676</td>\n",
       "      <td>150202</td>\n",
       "      <td>Homo sapiens</td>\n",
       "      <td>GSM</td>\n",
       "      <td></td>\n",
       "      <td>...</td>\n",
       "      <td>http://ftp.sra.ebi.ac.uk/vol1/fastq/SRR117/087...</td>\n",
       "      <td>Illumina NovaSeq 6000</td>\n",
       "      <td>69079333</td>\n",
       "      <td>SRP260974</td>\n",
       "      <td>285625953</td>\n",
       "      <td>&lt;NA&gt;</td>\n",
       "      <td>PAIRED</td>\n",
       "      <td>https://sra-pub-run-odp.s3.amazonaws.com/sra/S...</td>\n",
       "      <td>21276434564</td>\n",
       "      <td>cDNA</td>\n",
       "    </tr>\n",
       "  </tbody>\n",
       "</table>\n",
       "<p>4 rows × 65 columns</p>\n",
       "</div>"
      ],
      "text/plain": [
       "  run_accession experiment_alias gds experiment_title  \\\n",
       "0   SRR11746184       GSM4543351         HFO sample 1   \n",
       "1   SRR11746185       GSM4543351         HFO sample 1   \n",
       "2   SRR11746186       GSM4543351         HFO sample 1   \n",
       "3   SRR11746187       GSM4543351         HFO sample 1   \n",
       "\n",
       "                 sample_attribute    gpl     gse         taxon entrytype  \\\n",
       "0  HES3 NKX2.5-eGFP reporter line  24676  150202  Homo sapiens       GSM   \n",
       "1  HES3 NKX2.5-eGFP reporter line  24676  150202  Homo sapiens       GSM   \n",
       "2  HES3 NKX2.5-eGFP reporter line  24676  150202  Homo sapiens       GSM   \n",
       "3  HES3 NKX2.5-eGFP reporter line  24676  150202  Homo sapiens       GSM   \n",
       "\n",
       "  gdstype  ...                                     ena_fastq_http  \\\n",
       "0          ...  http://ftp.sra.ebi.ac.uk/vol1/fastq/SRR117/084...   \n",
       "1          ...  http://ftp.sra.ebi.ac.uk/vol1/fastq/SRR117/085...   \n",
       "2          ...  http://ftp.sra.ebi.ac.uk/vol1/fastq/SRR117/086...   \n",
       "3          ...  http://ftp.sra.ebi.ac.uk/vol1/fastq/SRR117/087...   \n",
       "\n",
       "        instrument_model run_total_spots study_accession total_spots  \\\n",
       "0  Illumina NovaSeq 6000        69003515       SRP260974   285625953   \n",
       "1  Illumina NovaSeq 6000        76863187       SRP260974   285625953   \n",
       "2  Illumina NovaSeq 6000        70679918       SRP260974   285625953   \n",
       "3  Illumina NovaSeq 6000        69079333       SRP260974   285625953   \n",
       "\n",
       "  ena_fastq_http_2 library_layout  \\\n",
       "0             <NA>         PAIRED   \n",
       "1             <NA>         PAIRED   \n",
       "2             <NA>         PAIRED   \n",
       "3             <NA>         PAIRED   \n",
       "\n",
       "                                             sra_url run_total_bases  \\\n",
       "0  https://sra-pub-run-odp.s3.amazonaws.com/sra/S...     21253082620   \n",
       "1  https://sra-pub-run-odp.s3.amazonaws.com/sra/S...     23673861596   \n",
       "2  https://sra-pub-run-odp.s3.amazonaws.com/sra/S...     21769414744   \n",
       "3  https://sra-pub-run-odp.s3.amazonaws.com/sra/S...     21276434564   \n",
       "\n",
       "  library_selection  \n",
       "0              cDNA  \n",
       "1              cDNA  \n",
       "2              cDNA  \n",
       "3              cDNA  \n",
       "\n",
       "[4 rows x 65 columns]"
      ]
     },
     "execution_count": 13,
     "metadata": {},
     "output_type": "execute_result"
    }
   ],
   "source": [
    "df"
   ]
  },
  {
   "cell_type": "code",
   "execution_count": null,
   "metadata": {},
   "outputs": [],
   "source": []
  }
 ],
 "metadata": {
  "kernelspec": {
   "display_name": "Python 3.9.12 ('celline-oNvuf4EQ-py3.9')",
   "language": "python",
   "name": "python3"
  },
  "language_info": {
   "codemirror_mode": {
    "name": "ipython",
    "version": 3
   },
   "file_extension": ".py",
   "mimetype": "text/x-python",
   "name": "python",
   "nbconvert_exporter": "python",
   "pygments_lexer": "ipython3",
   "version": "3.9.12"
  },
  "orig_nbformat": 4,
  "vscode": {
   "interpreter": {
    "hash": "fbf4a2874c4d69717bb31ae97c18595c54a0390bf7da353a9652170a81f42eee"
   }
  }
 },
 "nbformat": 4,
 "nbformat_minor": 2
}
